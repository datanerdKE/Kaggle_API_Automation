{
 "cells": [
  {
   "cell_type": "markdown",
   "metadata": {},
   "source": [
    "<b><font size='6'>Set up Notebook Environment</font></b><br>\n",
    "<font size='4'>Import Packages.</font>"
   ]
  },
  {
   "cell_type": "code",
   "execution_count": 1,
   "metadata": {},
   "outputs": [],
   "source": [
    "# bigquery database\n",
    "from google.cloud import bigquery\n",
    "\n",
    "# data manipulation and exploration\n",
    "import pandas as pd         \n",
    "\n",
    "# time intervals between jobs \n",
    "import time           \n",
    "\n",
    "# environment paths\n",
    "import os "
   ]
  },
  {
   "cell_type": "markdown",
   "metadata": {},
   "source": [
    "<b><font size='6'>Initialize Variables and Objects</font></b><br>\n",
    "<font size='4'>Provide BigQuery Credentials and Initialize Client Object.</font>"
   ]
  },
  {
   "cell_type": "code",
   "execution_count": 2,
   "metadata": {},
   "outputs": [],
   "source": [
    "# bigquery credentials\n",
    "os.environ['GOOGLE_APPLICATION_CREDENTIALS'] = 'central_database.json'"
   ]
  },
  {
   "cell_type": "code",
   "execution_count": 3,
   "metadata": {},
   "outputs": [],
   "source": [
    "# initialize client object\n",
    "client = bigquery.Client()"
   ]
  }
 ],
 "metadata": {
  "kernelspec": {
   "display_name": "datanerdke",
   "language": "python",
   "name": "python3"
  },
  "language_info": {
   "codemirror_mode": {
    "name": "ipython",
    "version": 3
   },
   "file_extension": ".py",
   "mimetype": "text/x-python",
   "name": "python",
   "nbconvert_exporter": "python",
   "pygments_lexer": "ipython3",
   "version": "3.12.1"
  }
 },
 "nbformat": 4,
 "nbformat_minor": 2
}
