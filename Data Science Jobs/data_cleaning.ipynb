{
 "cells": [
  {
   "cell_type": "markdown",
   "metadata": {},
   "source": [
    "<b><font size='6'>Session 1 : Import Packages</font></b><br>\n",
    "<font size='4'>Import Necessary Dependencies for Data Cleaning.</font>"
   ]
  },
  {
   "cell_type": "code",
   "execution_count": 72,
   "metadata": {},
   "outputs": [],
   "source": [
    "# Connection to Local MySQL Database\n",
    "import mysql.connector\n",
    "\n",
    "# Data Exploration and Data Manipulation\n",
    "import pandas as pd      \n",
    "pd.set_option('display.max_columns',100)  \n",
    "import numpy as np            \n",
    "\n",
    "# Text Analysis\n",
    "from nltk import word_tokenize\n",
    "from collections import Counter\n",
    "\n",
    "# Statistical Analysis\n",
    "import wquantiles as wq     \n",
    "import scipy.stats as stats    \n",
    "\n",
    "# Data Visualization\n",
    "import matplotlib.pyplot as plt           \n",
    "import seaborn as sns        \n",
    "plt.style.use('fivethirtyeight')\n",
    "\n",
    "# Ignore Warnings \n",
    "import warnings\n",
    "warnings.filterwarnings('ignore')"
   ]
  },
  {
   "cell_type": "markdown",
   "metadata": {},
   "source": [
    "<b><font size='6'>Session 2 : Import Data from the Database</font></b><br>\n",
    "<font size='4'>Load data from the local MySQL database.</font>"
   ]
  },
  {
   "cell_type": "markdown",
   "metadata": {},
   "source": [
    "<b><font size='5'>1. Database Credentials</font></b>"
   ]
  },
  {
   "cell_type": "code",
   "execution_count": 30,
   "metadata": {},
   "outputs": [],
   "source": [
    "database = mysql.connector.connect(user='export',password='export',database='gsearch_jobs')"
   ]
  },
  {
   "cell_type": "markdown",
   "metadata": {},
   "source": [
    "<b><font size='5'>2. Query Data from the Database</font></b>"
   ]
  },
  {
   "cell_type": "code",
   "execution_count": 31,
   "metadata": {},
   "outputs": [],
   "source": [
    "jobs = pd.read_sql_query(f\"\"\"\n",
    "                SELECT \n",
    "                    title, company_name, location, via, posted_at, schedule_type, work_from_home,\n",
    "                    salary, date_time, case \n",
    "                                            when description_tokens like '[]' then '[Not Known]' \n",
    "                                            else description_tokens \n",
    "                                        end as description_tokens\n",
    "                FROM data_science_jobs;\n",
    "                \"\"\", database)"
   ]
  },
  {
   "cell_type": "markdown",
   "metadata": {},
   "source": [
    "<b><font size='6'>Session 3 : Understand the Data</font></b><br>\n",
    "<font size='4'>Basic Data Exploration `i.e` check nulls, duplicate e.t.c</font>"
   ]
  },
  {
   "cell_type": "markdown",
   "metadata": {},
   "source": [
    "<b><font size='5'>1. Information about the Data</font></b>"
   ]
  },
  {
   "cell_type": "code",
   "execution_count": 32,
   "metadata": {},
   "outputs": [
    {
     "name": "stdout",
     "output_type": "stream",
     "text": [
      "<class 'pandas.core.frame.DataFrame'>\n",
      "RangeIndex: 40839 entries, 0 to 40838\n",
      "Data columns (total 10 columns):\n",
      " #   Column              Non-Null Count  Dtype  \n",
      "---  ------              --------------  -----  \n",
      " 0   title               40839 non-null  object \n",
      " 1   company_name        40839 non-null  object \n",
      " 2   location            40811 non-null  object \n",
      " 3   via                 40830 non-null  object \n",
      " 4   posted_at           40839 non-null  object \n",
      " 5   schedule_type       40662 non-null  object \n",
      " 6   work_from_home      18364 non-null  float64\n",
      " 7   salary              6961 non-null   object \n",
      " 8   date_time           40839 non-null  object \n",
      " 9   description_tokens  40839 non-null  object \n",
      "dtypes: float64(1), object(9)\n",
      "memory usage: 3.1+ MB\n"
     ]
    }
   ],
   "source": [
    "jobs.info()"
   ]
  },
  {
   "cell_type": "markdown",
   "metadata": {},
   "source": [
    "<b><font size='5'>2. Descriptive Statistics on the Data</font></b>"
   ]
  },
  {
   "cell_type": "code",
   "execution_count": 33,
   "metadata": {},
   "outputs": [
    {
     "data": {
      "text/html": [
       "<div>\n",
       "<style scoped>\n",
       "    .dataframe tbody tr th:only-of-type {\n",
       "        vertical-align: middle;\n",
       "    }\n",
       "\n",
       "    .dataframe tbody tr th {\n",
       "        vertical-align: top;\n",
       "    }\n",
       "\n",
       "    .dataframe thead th {\n",
       "        text-align: right;\n",
       "    }\n",
       "</style>\n",
       "<table border=\"1\" class=\"dataframe\">\n",
       "  <thead>\n",
       "    <tr style=\"text-align: right;\">\n",
       "      <th></th>\n",
       "      <th>count</th>\n",
       "      <th>mean</th>\n",
       "      <th>std</th>\n",
       "      <th>min</th>\n",
       "      <th>25%</th>\n",
       "      <th>50%</th>\n",
       "      <th>75%</th>\n",
       "      <th>max</th>\n",
       "    </tr>\n",
       "  </thead>\n",
       "  <tbody>\n",
       "    <tr>\n",
       "      <th>work_from_home</th>\n",
       "      <td>18364.0</td>\n",
       "      <td>1.0</td>\n",
       "      <td>0.0</td>\n",
       "      <td>1.0</td>\n",
       "      <td>1.0</td>\n",
       "      <td>1.0</td>\n",
       "      <td>1.0</td>\n",
       "      <td>1.0</td>\n",
       "    </tr>\n",
       "  </tbody>\n",
       "</table>\n",
       "</div>"
      ],
      "text/plain": [
       "                  count  mean  std  min  25%  50%  75%  max\n",
       "work_from_home  18364.0   1.0  0.0  1.0  1.0  1.0  1.0  1.0"
      ]
     },
     "execution_count": 33,
     "metadata": {},
     "output_type": "execute_result"
    }
   ],
   "source": [
    "jobs.describe().T"
   ]
  },
  {
   "cell_type": "markdown",
   "metadata": {},
   "source": [
    "<b><font size='5'>3. Unique Values Check</font></b>"
   ]
  },
  {
   "cell_type": "code",
   "execution_count": 34,
   "metadata": {},
   "outputs": [
    {
     "data": {
      "text/plain": [
       "title                 15268\n",
       "company_name           9550\n",
       "location                704\n",
       "via                     603\n",
       "posted_at                81\n",
       "schedule_type            28\n",
       "work_from_home            1\n",
       "salary                 1442\n",
       "date_time              4267\n",
       "description_tokens     7955\n",
       "dtype: int64"
      ]
     },
     "execution_count": 34,
     "metadata": {},
     "output_type": "execute_result"
    }
   ],
   "source": [
    "jobs.nunique()"
   ]
  },
  {
   "cell_type": "markdown",
   "metadata": {},
   "source": [
    "<b><font size='5'>4. Missing Values Check</font></b>"
   ]
  },
  {
   "cell_type": "code",
   "execution_count": 35,
   "metadata": {},
   "outputs": [
    {
     "data": {
      "text/plain": [
       "title                     0\n",
       "company_name              0\n",
       "location                 28\n",
       "via                       9\n",
       "posted_at                 0\n",
       "schedule_type           177\n",
       "work_from_home        22475\n",
       "salary                33878\n",
       "date_time                 0\n",
       "description_tokens        0\n",
       "dtype: int64"
      ]
     },
     "execution_count": 35,
     "metadata": {},
     "output_type": "execute_result"
    }
   ],
   "source": [
    "jobs.isna().sum()"
   ]
  },
  {
   "cell_type": "markdown",
   "metadata": {},
   "source": [
    "<b><font size='5'>5. Duplicate Values Check</font></b>"
   ]
  },
  {
   "cell_type": "code",
   "execution_count": 36,
   "metadata": {},
   "outputs": [
    {
     "data": {
      "text/plain": [
       "3"
      ]
     },
     "execution_count": 36,
     "metadata": {},
     "output_type": "execute_result"
    }
   ],
   "source": [
    "jobs.duplicated().sum()"
   ]
  },
  {
   "cell_type": "markdown",
   "metadata": {},
   "source": [
    "<b><font size='5'>6. Head of the DataFrame</font></b>"
   ]
  },
  {
   "cell_type": "code",
   "execution_count": 37,
   "metadata": {},
   "outputs": [
    {
     "data": {
      "text/html": [
       "<div>\n",
       "<style scoped>\n",
       "    .dataframe tbody tr th:only-of-type {\n",
       "        vertical-align: middle;\n",
       "    }\n",
       "\n",
       "    .dataframe tbody tr th {\n",
       "        vertical-align: top;\n",
       "    }\n",
       "\n",
       "    .dataframe thead th {\n",
       "        text-align: right;\n",
       "    }\n",
       "</style>\n",
       "<table border=\"1\" class=\"dataframe\">\n",
       "  <thead>\n",
       "    <tr style=\"text-align: right;\">\n",
       "      <th></th>\n",
       "      <th>title</th>\n",
       "      <th>company_name</th>\n",
       "      <th>location</th>\n",
       "      <th>via</th>\n",
       "      <th>posted_at</th>\n",
       "      <th>schedule_type</th>\n",
       "      <th>work_from_home</th>\n",
       "      <th>salary</th>\n",
       "      <th>date_time</th>\n",
       "      <th>description_tokens</th>\n",
       "    </tr>\n",
       "  </thead>\n",
       "  <tbody>\n",
       "    <tr>\n",
       "      <th>0</th>\n",
       "      <td>Data Analyst</td>\n",
       "      <td>Cisco Meraki</td>\n",
       "      <td>Anywhere</td>\n",
       "      <td>via LinkedIn</td>\n",
       "      <td>22 hours ago</td>\n",
       "      <td>Full-time</td>\n",
       "      <td>1.0</td>\n",
       "      <td>None</td>\n",
       "      <td>2023-08-02 03:00:13.054897</td>\n",
       "      <td>['tableau', 'aws', 'sql']</td>\n",
       "    </tr>\n",
       "    <tr>\n",
       "      <th>1</th>\n",
       "      <td>Entry Level - Business Data Analyst (Remote)</td>\n",
       "      <td>Midwest Staffing</td>\n",
       "      <td>Anywhere</td>\n",
       "      <td>via LinkedIn</td>\n",
       "      <td>53 minutes ago</td>\n",
       "      <td>Full-time</td>\n",
       "      <td>1.0</td>\n",
       "      <td>None</td>\n",
       "      <td>2023-08-02 03:00:13.054897</td>\n",
       "      <td>[Not Known]</td>\n",
       "    </tr>\n",
       "    <tr>\n",
       "      <th>2</th>\n",
       "      <td>Data Analyst/Researcher</td>\n",
       "      <td>Amyx, Inc.</td>\n",
       "      <td>United States</td>\n",
       "      <td>via Indeed</td>\n",
       "      <td>3 hours ago</td>\n",
       "      <td>Full-time</td>\n",
       "      <td>NaN</td>\n",
       "      <td>None</td>\n",
       "      <td>2023-08-02 03:00:13.054897</td>\n",
       "      <td>['azure', 'excel', 'sql']</td>\n",
       "    </tr>\n",
       "    <tr>\n",
       "      <th>3</th>\n",
       "      <td>Data analyst/AI expert to help build a website...</td>\n",
       "      <td>Upwork</td>\n",
       "      <td>Anywhere</td>\n",
       "      <td>via Upwork</td>\n",
       "      <td>23 hours ago</td>\n",
       "      <td>Contractor</td>\n",
       "      <td>1.0</td>\n",
       "      <td>None</td>\n",
       "      <td>2023-08-02 03:00:13.054897</td>\n",
       "      <td>['excel']</td>\n",
       "    </tr>\n",
       "    <tr>\n",
       "      <th>4</th>\n",
       "      <td>Data Analyst</td>\n",
       "      <td>Bank Street College of Education</td>\n",
       "      <td>United States</td>\n",
       "      <td>via Higher Education Recruitment Consortium (H...</td>\n",
       "      <td>20 hours ago</td>\n",
       "      <td>Full-time</td>\n",
       "      <td>NaN</td>\n",
       "      <td>None</td>\n",
       "      <td>2023-08-02 03:00:13.054897</td>\n",
       "      <td>['powerpoint', 'excel']</td>\n",
       "    </tr>\n",
       "  </tbody>\n",
       "</table>\n",
       "</div>"
      ],
      "text/plain": [
       "                                               title  \\\n",
       "0                                       Data Analyst   \n",
       "1       Entry Level - Business Data Analyst (Remote)   \n",
       "2                            Data Analyst/Researcher   \n",
       "3  Data analyst/AI expert to help build a website...   \n",
       "4                                       Data Analyst   \n",
       "\n",
       "                       company_name            location  \\\n",
       "0                      Cisco Meraki           Anywhere    \n",
       "1                  Midwest Staffing           Anywhere    \n",
       "2                        Amyx, Inc.    United States      \n",
       "3                            Upwork           Anywhere    \n",
       "4  Bank Street College of Education    United States      \n",
       "\n",
       "                                                 via       posted_at  \\\n",
       "0                                       via LinkedIn    22 hours ago   \n",
       "1                                       via LinkedIn  53 minutes ago   \n",
       "2                                         via Indeed     3 hours ago   \n",
       "3                                         via Upwork    23 hours ago   \n",
       "4  via Higher Education Recruitment Consortium (H...    20 hours ago   \n",
       "\n",
       "  schedule_type  work_from_home salary                   date_time  \\\n",
       "0     Full-time             1.0   None  2023-08-02 03:00:13.054897   \n",
       "1     Full-time             1.0   None  2023-08-02 03:00:13.054897   \n",
       "2     Full-time             NaN   None  2023-08-02 03:00:13.054897   \n",
       "3    Contractor             1.0   None  2023-08-02 03:00:13.054897   \n",
       "4     Full-time             NaN   None  2023-08-02 03:00:13.054897   \n",
       "\n",
       "          description_tokens  \n",
       "0  ['tableau', 'aws', 'sql']  \n",
       "1                [Not Known]  \n",
       "2  ['azure', 'excel', 'sql']  \n",
       "3                  ['excel']  \n",
       "4    ['powerpoint', 'excel']  "
      ]
     },
     "execution_count": 37,
     "metadata": {},
     "output_type": "execute_result"
    }
   ],
   "source": [
    "jobs.head()"
   ]
  },
  {
   "cell_type": "markdown",
   "metadata": {},
   "source": [
    "<b><font size='5'>7. Tail of the DataFrame</font></b>"
   ]
  },
  {
   "cell_type": "code",
   "execution_count": 38,
   "metadata": {},
   "outputs": [
    {
     "data": {
      "text/html": [
       "<div>\n",
       "<style scoped>\n",
       "    .dataframe tbody tr th:only-of-type {\n",
       "        vertical-align: middle;\n",
       "    }\n",
       "\n",
       "    .dataframe tbody tr th {\n",
       "        vertical-align: top;\n",
       "    }\n",
       "\n",
       "    .dataframe thead th {\n",
       "        text-align: right;\n",
       "    }\n",
       "</style>\n",
       "<table border=\"1\" class=\"dataframe\">\n",
       "  <thead>\n",
       "    <tr style=\"text-align: right;\">\n",
       "      <th></th>\n",
       "      <th>title</th>\n",
       "      <th>company_name</th>\n",
       "      <th>location</th>\n",
       "      <th>via</th>\n",
       "      <th>posted_at</th>\n",
       "      <th>schedule_type</th>\n",
       "      <th>work_from_home</th>\n",
       "      <th>salary</th>\n",
       "      <th>date_time</th>\n",
       "      <th>description_tokens</th>\n",
       "    </tr>\n",
       "  </thead>\n",
       "  <tbody>\n",
       "    <tr>\n",
       "      <th>40834</th>\n",
       "      <td>Marketing Data &amp; BI Analyst II</td>\n",
       "      <td>EDWARD JONES</td>\n",
       "      <td>Houstonia, MO</td>\n",
       "      <td>via My ArkLaMiss Jobs</td>\n",
       "      <td>23 hours ago</td>\n",
       "      <td>Full-time</td>\n",
       "      <td>NaN</td>\n",
       "      <td>76,798–130,764 a year</td>\n",
       "      <td>2022-11-04 03:40:23.706734</td>\n",
       "      <td>['tableau', 'power_bi', 'python', 'excel', 'sq...</td>\n",
       "    </tr>\n",
       "    <tr>\n",
       "      <th>40835</th>\n",
       "      <td>Lead-Data Analyst</td>\n",
       "      <td>EDWARD JONES</td>\n",
       "      <td>Marshfield, MO</td>\n",
       "      <td>via My ArkLaMiss Jobs</td>\n",
       "      <td>23 hours ago</td>\n",
       "      <td>Full-time</td>\n",
       "      <td>NaN</td>\n",
       "      <td>106,916–182,047 a year</td>\n",
       "      <td>2022-11-24 04:00:08.710801</td>\n",
       "      <td>[Not Known]</td>\n",
       "    </tr>\n",
       "    <tr>\n",
       "      <th>40836</th>\n",
       "      <td>Lead-Data Analyst</td>\n",
       "      <td>EDWARD JONES</td>\n",
       "      <td>High Point, MO</td>\n",
       "      <td>via My ArkLaMiss Jobs</td>\n",
       "      <td>23 hours ago</td>\n",
       "      <td>Full-time</td>\n",
       "      <td>NaN</td>\n",
       "      <td>106,916–182,047 a year</td>\n",
       "      <td>2022-12-07 04:00:12.563831</td>\n",
       "      <td>[Not Known]</td>\n",
       "    </tr>\n",
       "    <tr>\n",
       "      <th>40837</th>\n",
       "      <td>Lead-Data Analyst</td>\n",
       "      <td>EDWARD JONES</td>\n",
       "      <td>Calhoun, MO</td>\n",
       "      <td>via My ArkLaMiss Jobs</td>\n",
       "      <td>23 hours ago</td>\n",
       "      <td>Full-time</td>\n",
       "      <td>NaN</td>\n",
       "      <td>106,916–182,047 a year</td>\n",
       "      <td>2022-12-08 04:00:15.975728</td>\n",
       "      <td>[Not Known]</td>\n",
       "    </tr>\n",
       "    <tr>\n",
       "      <th>40838</th>\n",
       "      <td>Institutional Credit Management - Lending Data...</td>\n",
       "      <td>Citi</td>\n",
       "      <td>United States</td>\n",
       "      <td>via My ArkLaMiss Jobs</td>\n",
       "      <td>24 hours ago</td>\n",
       "      <td>Full-time</td>\n",
       "      <td>NaN</td>\n",
       "      <td>105,850–158,780 a year</td>\n",
       "      <td>2023-01-25 04:00:26.521124</td>\n",
       "      <td>['tableau', 'cognos']</td>\n",
       "    </tr>\n",
       "  </tbody>\n",
       "</table>\n",
       "</div>"
      ],
      "text/plain": [
       "                                                   title  company_name  \\\n",
       "40834                     Marketing Data & BI Analyst II  EDWARD JONES   \n",
       "40835                                  Lead-Data Analyst  EDWARD JONES   \n",
       "40836                                  Lead-Data Analyst  EDWARD JONES   \n",
       "40837                                  Lead-Data Analyst  EDWARD JONES   \n",
       "40838  Institutional Credit Management - Lending Data...          Citi   \n",
       "\n",
       "             location                    via     posted_at schedule_type  \\\n",
       "40834   Houstonia, MO  via My ArkLaMiss Jobs  23 hours ago     Full-time   \n",
       "40835  Marshfield, MO  via My ArkLaMiss Jobs  23 hours ago     Full-time   \n",
       "40836  High Point, MO  via My ArkLaMiss Jobs  23 hours ago     Full-time   \n",
       "40837     Calhoun, MO  via My ArkLaMiss Jobs  23 hours ago     Full-time   \n",
       "40838   United States  via My ArkLaMiss Jobs  24 hours ago     Full-time   \n",
       "\n",
       "       work_from_home                  salary                   date_time  \\\n",
       "40834             NaN   76,798–130,764 a year  2022-11-04 03:40:23.706734   \n",
       "40835             NaN  106,916–182,047 a year  2022-11-24 04:00:08.710801   \n",
       "40836             NaN  106,916–182,047 a year  2022-12-07 04:00:12.563831   \n",
       "40837             NaN  106,916–182,047 a year  2022-12-08 04:00:15.975728   \n",
       "40838             NaN  105,850–158,780 a year  2023-01-25 04:00:26.521124   \n",
       "\n",
       "                                      description_tokens  \n",
       "40834  ['tableau', 'power_bi', 'python', 'excel', 'sq...  \n",
       "40835                                        [Not Known]  \n",
       "40836                                        [Not Known]  \n",
       "40837                                        [Not Known]  \n",
       "40838                              ['tableau', 'cognos']  "
      ]
     },
     "execution_count": 38,
     "metadata": {},
     "output_type": "execute_result"
    }
   ],
   "source": [
    "jobs.tail()"
   ]
  },
  {
   "cell_type": "markdown",
   "metadata": {},
   "source": [
    "<b><font size='6'>Session 4 : Data Cleaning</font></b><br>\n",
    "<font size='4'>Prepare the data for Exploratory Data Analysis, Data Visualization, Data Storytelling and Model Building.</font>"
   ]
  },
  {
   "cell_type": "markdown",
   "metadata": {},
   "source": [
    "<b><font size='5'>Backup DataFrame</font></b><br>\n",
    "<font size='4'>Create a backup dataframe for Data Cleaning.</font>"
   ]
  },
  {
   "cell_type": "code",
   "execution_count": 39,
   "metadata": {},
   "outputs": [],
   "source": [
    "# create a copy of the jobs dataframe\n",
    "data = jobs.copy()"
   ]
  },
  {
   "cell_type": "markdown",
   "metadata": {},
   "source": [
    "<b><font size='5'>1. Job Platform</font></b><br>\n",
    "<font size='4'>Rename `via` to `job_platform` and remove the `via` in the text.</font>"
   ]
  },
  {
   "cell_type": "code",
   "execution_count": 40,
   "metadata": {},
   "outputs": [],
   "source": [
    "# rename via to job_platform\n",
    "data.rename(columns={\n",
    "    'via':'job_platform'\n",
    "    },inplace=True)"
   ]
  },
  {
   "cell_type": "code",
   "execution_count": 41,
   "metadata": {},
   "outputs": [],
   "source": [
    "# remove the text via \n",
    "data['job_platform'] = data['job_platform'].str.replace('via','').str.strip()"
   ]
  },
  {
   "cell_type": "markdown",
   "metadata": {},
   "source": [
    "<b><font size='5'>2. Work from Home</font></b><br>\n",
    "<font size='4'>Replace 1.0 with `Yes` and 0 with `No`.</font>"
   ]
  },
  {
   "cell_type": "code",
   "execution_count": 42,
   "metadata": {},
   "outputs": [],
   "source": [
    "# use lambda function to replace 1.0 with Yes and the NaNs with Not Known\n",
    "data['work_from_home'] = data['work_from_home'].apply(lambda x : 'Yes' if x == 1.0 else 'Not Known')"
   ]
  },
  {
   "cell_type": "markdown",
   "metadata": {},
   "source": [
    "<b><font size='5'>3. Salary</font></b><br>\n",
    "<font size='4'>Split the Salary into Hourly and Yearly, then find the Average Salary for Both.</font>"
   ]
  },
  {
   "cell_type": "code",
   "execution_count": 43,
   "metadata": {},
   "outputs": [],
   "source": [
    "# filter the salary based on hourly and yearly rates\n",
    "data['hourly_salary'] = np.where(data['salary'].str.contains('hour'),data['salary'],np.NAN)\n",
    "data['yearly_salary'] = np.where(data['salary'].str.contains('year'),data['salary'],np.NAN)"
   ]
  },
  {
   "cell_type": "code",
   "execution_count": 44,
   "metadata": {},
   "outputs": [],
   "source": [
    "# split the hourly and yearly salary into minimum and maximum then find the average\n",
    "data[['min_hourly','max_hourly']] = data['hourly_salary'].str.split('–',expand=True)\n",
    "data[['min_yearly','max_yearly']] = data['yearly_salary'].str.split('–',expand=True)"
   ]
  },
  {
   "cell_type": "code",
   "execution_count": 45,
   "metadata": {},
   "outputs": [],
   "source": [
    "# function to clean and convert text to numerical values\n",
    "def convert_int(text):\n",
    "    data[text] = data[text].str.replace('an hour','').str.replace('a year','').str.replace('K','000').str.replace(',','')\n",
    "    data[text] = round(pd.to_numeric(data[text])).astype('Int64') "
   ]
  },
  {
   "cell_type": "code",
   "execution_count": 46,
   "metadata": {},
   "outputs": [],
   "source": [
    "# call function for both hourly and yearly salary\n",
    "convert_int('min_hourly')\n",
    "convert_int('max_hourly')\n",
    "convert_int('min_yearly')\n",
    "convert_int('max_yearly')"
   ]
  },
  {
   "cell_type": "code",
   "execution_count": 47,
   "metadata": {},
   "outputs": [],
   "source": [
    "# find the average salary for both hourly and yearly rates\n",
    "data['hourly'] = np.add(data['min_hourly'],data['max_hourly']) / 2\n",
    "data['yearly'] = np.add(data['min_yearly'],data['max_yearly']) / 2"
   ]
  },
  {
   "cell_type": "code",
   "execution_count": 48,
   "metadata": {},
   "outputs": [],
   "source": [
    "# drop the unnecessary salary columns\n",
    "data.drop(['hourly_salary','yearly_salary','min_hourly','max_hourly','min_yearly','max_yearly'],axis=1,inplace=True)"
   ]
  },
  {
   "cell_type": "markdown",
   "metadata": {},
   "source": [
    "<b><font size='5'>4. Date Posted</font><b><br>\n",
    "<font size='4'>Rename `date_time` to `date_posted` and Convert from object to datetime data type.</font>"
   ]
  },
  {
   "cell_type": "code",
   "execution_count": 49,
   "metadata": {},
   "outputs": [],
   "source": [
    "# rename to date_posted\n",
    "data.rename(columns={\n",
    "    'date_time':'date_posted'\n",
    "    },inplace=True)"
   ]
  },
  {
   "cell_type": "code",
   "execution_count": 50,
   "metadata": {},
   "outputs": [],
   "source": [
    "# convert the data type from object to datetime\n",
    "data['date_posted'] = pd.to_datetime(data['date_posted'])"
   ]
  },
  {
   "cell_type": "markdown",
   "metadata": {},
   "source": [
    "<b><font size='5'>5. Skills</font></b><br>\n",
    "<font size='4'>Rename `description_tokens` to `skills` and Remove Unnecessary Punctuations.</font>"
   ]
  },
  {
   "cell_type": "code",
   "execution_count": 51,
   "metadata": {},
   "outputs": [],
   "source": [
    "# rename to skills\n",
    "data.rename(columns={\n",
    "    'description_tokens':'skills'\n",
    "},inplace=True)"
   ]
  },
  {
   "cell_type": "code",
   "execution_count": 52,
   "metadata": {},
   "outputs": [],
   "source": [
    "# remove unnecessary punctuations\n",
    "data['skills'] = data['skills'].str.replace('[','').str.replace(']','').str.replace(\"'\",\"\")"
   ]
  },
  {
   "cell_type": "markdown",
   "metadata": {},
   "source": [
    "<b><font size='5'>6. Feature Creation</font></b><br>\n",
    "<font size='4'>Extract year, month and day from the Date Posted.</font>"
   ]
  },
  {
   "cell_type": "code",
   "execution_count": 59,
   "metadata": {},
   "outputs": [],
   "source": [
    "# extract year, month and day\n",
    "data['year'] = data['date_posted'].dt.year     \n",
    "data['month'] = data['date_posted'].dt.month\n",
    "data['month_name'] = data['date_posted'].dt.month_name()\n",
    "data['day'] = data['date_posted'].dt.day     \n",
    "data['day_name'] = data['date_posted'].dt.day_name()"
   ]
  },
  {
   "cell_type": "markdown",
   "metadata": {},
   "source": [
    "<b><font size='5'>7. Rearrange columns in the DataFrame</font></b>"
   ]
  },
  {
   "cell_type": "code",
   "execution_count": 60,
   "metadata": {},
   "outputs": [],
   "source": [
    "data = data[[\n",
    "    'title','company_name','location','job_platform','date_posted','year','month','month_name','day','day_name',\n",
    "    'posted_at','schedule_type','work_from_home','hourly','yearly','skills'\n",
    "]].copy()"
   ]
  },
  {
   "cell_type": "markdown",
   "metadata": {},
   "source": [
    "<b><font size='6'>Session 5 : Exploratory Data Analysis</font></b><br>\n",
    "<font size='4'>Perform Estimates of Location, Estimates of Variability, Exploring Data Distribution e.t.c</font>"
   ]
  },
  {
   "cell_type": "markdown",
   "metadata": {},
   "source": [
    "<b><font size='5'>i. Estimates of Location</font></b><br>\n",
    "<font size='4'>Estimate of where most of the data is located i.e it's central tendency.</font>"
   ]
  },
  {
   "cell_type": "markdown",
   "metadata": {},
   "source": [
    "<b><font size='4'>1. Mean</font></b><br>\n",
    "<font size='4'>Sum of all values divided by the number of values.</font>"
   ]
  },
  {
   "cell_type": "code",
   "execution_count": 58,
   "metadata": {},
   "outputs": [
    {
     "name": "stdout",
     "output_type": "stream",
     "text": [
      "Average Hourly Salary : $41.81\n",
      "Average Yearly Salary : $98,984.94\n"
     ]
    }
   ],
   "source": [
    "print(f\"Average Hourly Salary : ${data['hourly'].mean():,.2f}\\nAverage Yearly Salary : ${data['yearly'].mean():,.2f}\")"
   ]
  },
  {
   "cell_type": "markdown",
   "metadata": {},
   "source": [
    "<b><font size='4'>2. Weighted Mean</font></b><br>\n",
    "<font size='4'>Sum of all values times a weight divided by the sum of the weights.</font>"
   ]
  },
  {
   "cell_type": "code",
   "execution_count": 68,
   "metadata": {},
   "outputs": [
    {
     "name": "stdout",
     "output_type": "stream",
     "text": [
      "Average Hourly Salary : $nan\n",
      "Average Yearly Salary : $nan\n"
     ]
    }
   ],
   "source": [
    "print(f\"Average Hourly Salary : ${np.average(data['hourly'],weights=data['day']):,.2f}\\nAverage Yearly Salary : ${np.average(data['yearly'],weights=data['month']):,.2f}\")"
   ]
  },
  {
   "cell_type": "markdown",
   "metadata": {},
   "source": [
    "<b><font size='4'>3. Median</font></b><br>\n",
    "<font size='4'>Value such that one-half of the data lies below and above the sorted data.</font>"
   ]
  },
  {
   "cell_type": "code",
   "execution_count": 71,
   "metadata": {},
   "outputs": [
    {
     "name": "stdout",
     "output_type": "stream",
     "text": [
      "Average Hourly Salary : $35.00\n",
      "Average Yearly Salary : $96,500.00\n"
     ]
    }
   ],
   "source": [
    "print(f\"Average Hourly Salary : ${data['hourly'].median():,.2f}\\nAverage Yearly Salary : ${data['yearly'].median():,.2f}\")"
   ]
  },
  {
   "cell_type": "markdown",
   "metadata": {},
   "source": [
    "<b><font size='4'>4. Weighted Median</font></b><br>\n",
    "<font size='4'>Value such that one-half of the sum of weights lies below and above the sorted data.</font>"
   ]
  },
  {
   "cell_type": "code",
   "execution_count": 74,
   "metadata": {},
   "outputs": [
    {
     "name": "stdout",
     "output_type": "stream",
     "text": [
      "Average Hourly Salary : $nan\n",
      "Average Yearly Salary : $nan\n"
     ]
    }
   ],
   "source": [
    "print(f\"Average Hourly Salary : ${wq.median(data['hourly'],weights=data['day'])}\\nAverage Yearly Salary : ${wq.median(data['yearly'],weights=data['month']):,.2f}\")"
   ]
  },
  {
   "cell_type": "markdown",
   "metadata": {},
   "source": [
    "<b><font size='4'>5. Trim Mean</font></b><br>\n",
    "<font size='4'>Average of all values after dropping a fixed number of extreme values.</font>"
   ]
  },
  {
   "cell_type": "code",
   "execution_count": 77,
   "metadata": {},
   "outputs": [
    {
     "name": "stdout",
     "output_type": "stream",
     "text": [
      "Average Hourly Salary : $nan\n",
      "Average Yearly Salary : $nan\n"
     ]
    }
   ],
   "source": [
    "print(f\"Average Hourly Salary : ${stats.trim_mean(data['hourly'],0.1):,.2f}\\nAverage Yearly Salary : ${stats.trim_mean(data['yearly'],0.1):,.2f}\")"
   ]
  },
  {
   "cell_type": "markdown",
   "metadata": {},
   "source": [
    "<b><font size='5'>ii. Estimates of Variability</font></b><br>\n",
    "<font size='4'>Estimate of whether data values are tightly clustered or spread out.</font>"
   ]
  },
  {
   "cell_type": "markdown",
   "metadata": {},
   "source": [
    "<b><font size='4'>1. Variance</font></b><br>\n",
    "<font size='4'>Sum of squared deviations from the mean divided by n-1, where n is the number of data values.</font>"
   ]
  },
  {
   "cell_type": "code",
   "execution_count": 78,
   "metadata": {},
   "outputs": [
    {
     "name": "stdout",
     "output_type": "stream",
     "text": [
      "Hourly Variance : $534.14\n",
      "Yearly Variance : $1,271,037,792.33\n"
     ]
    }
   ],
   "source": [
    "print(f\"Hourly Variance : ${data['hourly'].var():,.2f}\\nYearly Variance : ${data['yearly'].var():,.2f}\")"
   ]
  },
  {
   "cell_type": "markdown",
   "metadata": {},
   "source": [
    "<b><font size='4'>2. Standard Deviation</font></b><br>\n",
    "<font size='4'>Square root of variance.</font>"
   ]
  },
  {
   "cell_type": "code",
   "execution_count": 79,
   "metadata": {},
   "outputs": [
    {
     "name": "stdout",
     "output_type": "stream",
     "text": [
      "Hourly Deviation : $23.11\n",
      "Yearly Deviation : $35,651.62\n"
     ]
    }
   ],
   "source": [
    "print(f\"Hourly Deviation : ${data['hourly'].std():,.2f}\\nYearly Deviation : ${data['yearly'].std():,.2f}\")"
   ]
  },
  {
   "cell_type": "markdown",
   "metadata": {},
   "source": [
    "<b><font size='4'>3. Mean Absolute Deviation</font></b><br>\n",
    "<font size='4'>Mean of the absolute values of the deviations from the mean.</font>"
   ]
  },
  {
   "cell_type": "code",
   "execution_count": 81,
   "metadata": {},
   "outputs": [
    {
     "name": "stdout",
     "output_type": "stream",
     "text": [
      "Hourly Deviation : $nan\n",
      "Yearly Deviation : $nan\n"
     ]
    }
   ],
   "source": [
    "print(f\"Hourly Deviation : ${np.average(np.absolute(data['hourly']-data['hourly'].mean())):,.2f}\\nYearly Deviation : ${np.average(np.absolute(data['yearly']-data['yearly'].mean())):,.2f}\")"
   ]
  },
  {
   "cell_type": "markdown",
   "metadata": {},
   "source": [
    "<b><font size='4'>4. Median Absolute Deviation from the Median</font></b><br>\n",
    "<font size='4'>Median of the absolute values of the deviations from the median.</font>"
   ]
  },
  {
   "cell_type": "code",
   "execution_count": 82,
   "metadata": {},
   "outputs": [
    {
     "name": "stdout",
     "output_type": "stream",
     "text": [
      "Hourly Deviation : $nan\n",
      "Yearly Deviation : $nan\n"
     ]
    }
   ],
   "source": [
    "print(f\"Hourly Deviation : ${np.median(np.absolute(data['hourly']-data['hourly'].median())):,.2f}\\nYearly Deviation : ${np.median(np.absolute(data['yearly']-data['yearly'].median())):,.2f}\")"
   ]
  },
  {
   "cell_type": "markdown",
   "metadata": {},
   "source": [
    "<b><font size='4'>5. Interquartile Range</font></b><br>\n",
    "<font size='4'>Difference between the 75th and 25th percentile.</font>"
   ]
  },
  {
   "cell_type": "code",
   "execution_count": 83,
   "metadata": {},
   "outputs": [
    {
     "name": "stdout",
     "output_type": "stream",
     "text": [
      "Hourly IQR : $nan\n",
      "Yearly IQR : $nan\n"
     ]
    }
   ],
   "source": [
    "h1,h2 = np.percentile(data['hourly'],[75,25])\n",
    "y1,y2 = np.percentile(data['yearly'],[75,25])\n",
    "print(f\"Hourly IQR : ${np.subtract(h1,h2):,.2f}\\nYearly IQR : ${np.subtract(y1,y2)}\")"
   ]
  },
  {
   "cell_type": "markdown",
   "metadata": {},
   "source": [
    "<b><font size='5'>iii. Exploring the Data Distribution</font></b><br>\n",
    "<font size='4'>Explore how data is overally distributed.</font>"
   ]
  },
  {
   "cell_type": "markdown",
   "metadata": {},
   "source": [
    "<b><font size='4'>1. Percentiles and Boxplots</font></b><br>\n",
    "<font size='4'>Percentile is the value such that P percent of data values lies below the sorted data.<br>\n",
    "Boxplots based on Percentiles provide a quick way to visualize data distributions.</font>"
   ]
  },
  {
   "cell_type": "code",
   "execution_count": 84,
   "metadata": {},
   "outputs": [
    {
     "data": {
      "text/html": [
       "<div>\n",
       "<style scoped>\n",
       "    .dataframe tbody tr th:only-of-type {\n",
       "        vertical-align: middle;\n",
       "    }\n",
       "\n",
       "    .dataframe tbody tr th {\n",
       "        vertical-align: top;\n",
       "    }\n",
       "\n",
       "    .dataframe thead th {\n",
       "        text-align: right;\n",
       "    }\n",
       "</style>\n",
       "<table border=\"1\" class=\"dataframe\">\n",
       "  <thead>\n",
       "    <tr style=\"text-align: right;\">\n",
       "      <th></th>\n",
       "      <th>hourly</th>\n",
       "      <th>yearly</th>\n",
       "    </tr>\n",
       "  </thead>\n",
       "  <tbody>\n",
       "    <tr>\n",
       "      <th>0.05</th>\n",
       "      <td>15.0</td>\n",
       "      <td>53014.0</td>\n",
       "    </tr>\n",
       "    <tr>\n",
       "      <th>0.25</th>\n",
       "      <td>25.0</td>\n",
       "      <td>77500.0</td>\n",
       "    </tr>\n",
       "    <tr>\n",
       "      <th>0.50</th>\n",
       "      <td>35.0</td>\n",
       "      <td>96500.0</td>\n",
       "    </tr>\n",
       "    <tr>\n",
       "      <th>0.75</th>\n",
       "      <td>57.5</td>\n",
       "      <td>111545.5</td>\n",
       "    </tr>\n",
       "    <tr>\n",
       "      <th>0.95</th>\n",
       "      <td>84.25</td>\n",
       "      <td>165000.0</td>\n",
       "    </tr>\n",
       "  </tbody>\n",
       "</table>\n",
       "</div>"
      ],
      "text/plain": [
       "      hourly    yearly\n",
       "0.05    15.0   53014.0\n",
       "0.25    25.0   77500.0\n",
       "0.50    35.0   96500.0\n",
       "0.75    57.5  111545.5\n",
       "0.95   84.25  165000.0"
      ]
     },
     "execution_count": 84,
     "metadata": {},
     "output_type": "execute_result"
    }
   ],
   "source": [
    "data[['hourly','yearly']].quantile([0.05,0.25,0.5,0.75,0.95])"
   ]
  },
  {
   "cell_type": "code",
   "execution_count": 87,
   "metadata": {},
   "outputs": [
    {
     "data": {
      "image/png": "[encoded data removed]",
      "text/plain": [
       "<Figure size 1600x600 with 1 Axes>"
      ]
     },
     "metadata": {},
     "output_type": "display_data"
    }
   ],
   "source": [
    "data.boxplot(by='day_name',column='hourly',figsize=(16,6))\n",
    "plt.show()"
   ]
  },
  {
   "cell_type": "code",
   "execution_count": 93,
   "metadata": {},
   "outputs": [
    {
     "data": {
      "image/png": "[encoded data removed]",
      "text/plain": [
       "<Figure size 1600x600 with 1 Axes>"
      ]
     },
     "metadata": {},
     "output_type": "display_data"
    }
   ],
   "source": [
    "data.boxplot(by='day_name',column='yearly',figsize=(16,6))\n",
    "plt.xlabel('Month Name')\n",
    "plt.title('Yearly Salary')\n",
    "plt.show()"
   ]
  },
  {
   "cell_type": "code",
   "execution_count": 61,
   "metadata": {},
   "outputs": [
    {
     "data": {
      "text/html": [
       "<div>\n",
       "<style scoped>\n",
       "    .dataframe tbody tr th:only-of-type {\n",
       "        vertical-align: middle;\n",
       "    }\n",
       "\n",
       "    .dataframe tbody tr th {\n",
       "        vertical-align: top;\n",
       "    }\n",
       "\n",
       "    .dataframe thead th {\n",
       "        text-align: right;\n",
       "    }\n",
       "</style>\n",
       "<table border=\"1\" class=\"dataframe\">\n",
       "  <thead>\n",
       "    <tr style=\"text-align: right;\">\n",
       "      <th></th>\n",
       "      <th>title</th>\n",
       "      <th>company_name</th>\n",
       "      <th>location</th>\n",
       "      <th>job_platform</th>\n",
       "      <th>date_posted</th>\n",
       "      <th>year</th>\n",
       "      <th>month</th>\n",
       "      <th>month_name</th>\n",
       "      <th>day</th>\n",
       "      <th>day_name</th>\n",
       "      <th>posted_at</th>\n",
       "      <th>schedule_type</th>\n",
       "      <th>work_from_home</th>\n",
       "      <th>hourly</th>\n",
       "      <th>yearly</th>\n",
       "      <th>skills</th>\n",
       "    </tr>\n",
       "  </thead>\n",
       "  <tbody>\n",
       "    <tr>\n",
       "      <th>0</th>\n",
       "      <td>Data Analyst</td>\n",
       "      <td>Cisco Meraki</td>\n",
       "      <td>Anywhere</td>\n",
       "      <td>LinkedIn</td>\n",
       "      <td>2023-08-02 03:00:13.054897</td>\n",
       "      <td>2023</td>\n",
       "      <td>8</td>\n",
       "      <td>August</td>\n",
       "      <td>2</td>\n",
       "      <td>Wednesday</td>\n",
       "      <td>22 hours ago</td>\n",
       "      <td>Full-time</td>\n",
       "      <td>Yes</td>\n",
       "      <td>&lt;NA&gt;</td>\n",
       "      <td>&lt;NA&gt;</td>\n",
       "      <td>tableau, aws, sql</td>\n",
       "    </tr>\n",
       "    <tr>\n",
       "      <th>1</th>\n",
       "      <td>Entry Level - Business Data Analyst (Remote)</td>\n",
       "      <td>Midwest Staffing</td>\n",
       "      <td>Anywhere</td>\n",
       "      <td>LinkedIn</td>\n",
       "      <td>2023-08-02 03:00:13.054897</td>\n",
       "      <td>2023</td>\n",
       "      <td>8</td>\n",
       "      <td>August</td>\n",
       "      <td>2</td>\n",
       "      <td>Wednesday</td>\n",
       "      <td>53 minutes ago</td>\n",
       "      <td>Full-time</td>\n",
       "      <td>Yes</td>\n",
       "      <td>&lt;NA&gt;</td>\n",
       "      <td>&lt;NA&gt;</td>\n",
       "      <td>Not Known</td>\n",
       "    </tr>\n",
       "  </tbody>\n",
       "</table>\n",
       "</div>"
      ],
      "text/plain": [
       "                                          title      company_name    location  \\\n",
       "0                                  Data Analyst      Cisco Meraki   Anywhere    \n",
       "1  Entry Level - Business Data Analyst (Remote)  Midwest Staffing   Anywhere    \n",
       "\n",
       "  job_platform                date_posted  year  month month_name  day  \\\n",
       "0     LinkedIn 2023-08-02 03:00:13.054897  2023      8     August    2   \n",
       "1     LinkedIn 2023-08-02 03:00:13.054897  2023      8     August    2   \n",
       "\n",
       "    day_name       posted_at schedule_type work_from_home  hourly  yearly  \\\n",
       "0  Wednesday    22 hours ago     Full-time            Yes    <NA>    <NA>   \n",
       "1  Wednesday  53 minutes ago     Full-time            Yes    <NA>    <NA>   \n",
       "\n",
       "              skills  \n",
       "0  tableau, aws, sql  \n",
       "1          Not Known  "
      ]
     },
     "execution_count": 61,
     "metadata": {},
     "output_type": "execute_result"
    }
   ],
   "source": [
    "data.iloc[:2]"
   ]
  }
 ],
 "metadata": {
  "kernelspec": {
   "display_name": "datanerdke",
   "language": "python",
   "name": "python3"
  },
  "language_info": {
   "codemirror_mode": {
    "name": "ipython",
    "version": 3
   },
   "file_extension": ".py",
   "mimetype": "text/x-python",
   "name": "python",
   "nbconvert_exporter": "python",
   "pygments_lexer": "ipython3",
   "version": "3.12.1"
  }
 },
 "nbformat": 4,
 "nbformat_minor": 2
}
